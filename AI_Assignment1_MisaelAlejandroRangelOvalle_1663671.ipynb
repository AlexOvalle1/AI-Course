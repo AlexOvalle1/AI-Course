{
  "nbformat": 4,
  "nbformat_minor": 0,
  "metadata": {
    "colab": {
      "provenance": [],
      "authorship_tag": "ABX9TyN5uG/RXYROj7rgXkAuxujT",
      "include_colab_link": true
    },
    "kernelspec": {
      "name": "python3",
      "display_name": "Python 3"
    },
    "language_info": {
      "name": "python"
    }
  },
  "cells": [
    {
      "cell_type": "markdown",
      "metadata": {
        "id": "view-in-github",
        "colab_type": "text"
      },
      "source": [
        "<a href=\"https://colab.research.google.com/github/AlexOvalle1/AI-Course/blob/main/AI_Assignment1_MisaelAlejandroRangelOvalle_1663671.ipynb\" target=\"_parent\"><img src=\"https://colab.research.google.com/assets/colab-badge.svg\" alt=\"Open In Colab\"/></a>"
      ]
    },
    {
      "cell_type": "markdown",
      "source": [
        "Title: A2: Python Exercises\n",
        "\n",
        "Name: Misael Alejandro Rangel Ovalle\n",
        "\n",
        "Student Number: 1663671\n",
        "\n",
        "Class Time: Thursday / N3-N5"
      ],
      "metadata": {
        "id": "rF2fFfHSOBel"
      }
    },
    {
      "cell_type": "markdown",
      "source": [
        "---\n",
        "---\n",
        "\n"
      ],
      "metadata": {
        "id": "c-MI_B3CoQYN"
      }
    },
    {
      "cell_type": "markdown",
      "source": [
        "Create a python script where the user is going to be asked for the name. After that, the program will greet the user with the given name. Only exception: the script will not greet the user if the given name is \"Ana\", \"John\" or \"Peter\"."
      ],
      "metadata": {
        "id": "4pIaZsPYoAd_"
      }
    },
    {
      "cell_type": "code",
      "execution_count": 4,
      "metadata": {
        "colab": {
          "base_uri": "https://localhost:8080/"
        },
        "id": "pQ7FEFTkN4WN",
        "outputId": "1c9b1437-84c6-426c-d89a-4e4e881697bf"
      },
      "outputs": [
        {
          "output_type": "stream",
          "name": "stdout",
          "text": [
            "Name: Misael\n",
            "Hola que tal Misael!\n"
          ]
        }
      ],
      "source": [
        "name = input('Name: ')\n",
        "\n",
        "if 'Ana' == name.capitalize():\n",
        "  print('')\n",
        "elif 'Peter' == name.capitalize():\n",
        "  print('')\n",
        "elif 'Jhon' == name.capitalize():\n",
        "  print('')\n",
        "else:\n",
        "  print(f'Hola que tal {name}!')"
      ]
    },
    {
      "cell_type": "markdown",
      "source": [
        "---\n",
        "---"
      ],
      "metadata": {
        "id": "YNykmHqHoYwH"
      }
    },
    {
      "cell_type": "markdown",
      "source": [
        "Create a function in a pyhton script that returns (print) the last element of a given list, reverts the order of the list and finally returns (print) the reverted list"
      ],
      "metadata": {
        "id": "9jBS3A9Xodzu"
      }
    },
    {
      "cell_type": "code",
      "source": [
        "#Function\n",
        "def reverted_list(list1):\n",
        "  if list1 == []:\n",
        "    inverse = list1\n",
        "  else:\n",
        "    inverse = [list1[-1]] + reverted_list(list1[:-1])\n",
        "  return inverse\n",
        "\n",
        "#ListDefinition\n",
        "n = int(input('length of list:'))\n",
        "list1 = []\n",
        "for i in range(n):\n",
        "  element = input('Enter the elemnt:')\n",
        "  list1.append(element)\n",
        "\n",
        "#Prints\n",
        "print('Original list elements are:',list1)\n",
        "\n",
        "print('The last number of list is:', list1[-1])\n",
        "\n",
        "print('Reverse list is:',reverted_list(list1))"
      ],
      "metadata": {
        "colab": {
          "base_uri": "https://localhost:8080/"
        },
        "id": "o8j4f37JggUX",
        "outputId": "0fed7a6a-8191-4f87-b062-3ff9997882cb"
      },
      "execution_count": 5,
      "outputs": [
        {
          "output_type": "stream",
          "name": "stdout",
          "text": [
            "length of list:6\n",
            "Enter the elemnt:1\n",
            "Enter the elemnt:2\n",
            "Enter the elemnt:3\n",
            "Enter the elemnt:4\n",
            "Enter the elemnt:5\n",
            "Enter the elemnt:6\n",
            "Original list elements are: ['1', '2', '3', '4', '5', '6']\n",
            "The last number of list is: 6\n",
            "Reverse list is: ['6', '5', '4', '3', '2', '1']\n"
          ]
        }
      ]
    },
    {
      "cell_type": "markdown",
      "source": [
        "---\n",
        "---"
      ],
      "metadata": {
        "id": "o-0RrUW2onL_"
      }
    },
    {
      "cell_type": "markdown",
      "source": [
        "Create a function in a python script that takes a list of strings as input and then it prints, line by line, the whole list in a rectangular shape. E.g., the list could be [\"Hi\", \"my\", \"name\", \"is\", \"John\", \"Doe\"] and the final result is:\n",
        "\n",
        "\n",
        "\n",
        "********** \n",
        "\n",
        "* Hi        * \n",
        "\n",
        "* my       *\n",
        "\n",
        "* name   * \n",
        "\n",
        "* is         * \n",
        "\n",
        "* John    * \n",
        "\n",
        "* Doe     *\n",
        "\n",
        "**********"
      ],
      "metadata": {
        "id": "ZgoCUYRLos1w"
      }
    },
    {
      "cell_type": "code",
      "source": [
        "from traitlets.traitlets import List\n",
        "n = int(input('length of list:'))\n",
        "list2 = []\n",
        "for i in range(n):\n",
        "  element = input('Enter the elemnt:')\n",
        "  list2.append(element)\n",
        "print('The list is: ',list2)\n",
        "print('The list inside a rectangular shape: ')\n",
        "print('')\n",
        "\n",
        "m = n + 10\n",
        "for i in range(1,m+1,1):\n",
        "  for j in range (1,m+1,1):\n",
        "    if i==1 or i == m:\n",
        "      print(f'%',end='')\n",
        "    elif j==n:\n",
        "      print('%')\n",
        "      for element in list2:\n",
        "        print(f'% • {element}         % ')\n",
        "      print(f'%',end='')\n",
        "  print()\n",
        "\n",
        "\n"
      ],
      "metadata": {
        "colab": {
          "base_uri": "https://localhost:8080/"
        },
        "id": "FvgSzzn-ohPd",
        "outputId": "68e0f744-74fc-406c-ece4-b76c9ef54cd2"
      },
      "execution_count": 61,
      "outputs": [
        {
          "output_type": "stream",
          "name": "stdout",
          "text": [
            "length of list:2\n",
            "Enter the elemnt:1\n",
            "Enter the elemnt:2\n",
            "The list is:  ['1', '2']\n",
            "The list inside a rectangular shape: \n",
            "\n",
            "%%%%%%%%%%%%\n",
            "%\n",
            "% • 1         % \n",
            "% • 2         % \n",
            "%\n",
            "%\n",
            "% • 1         % \n",
            "% • 2         % \n",
            "%\n",
            "%\n",
            "% • 1         % \n",
            "% • 2         % \n",
            "%\n",
            "%\n",
            "% • 1         % \n",
            "% • 2         % \n",
            "%\n",
            "%\n",
            "% • 1         % \n",
            "% • 2         % \n",
            "%\n",
            "%\n",
            "% • 1         % \n",
            "% • 2         % \n",
            "%\n",
            "%\n",
            "% • 1         % \n",
            "% • 2         % \n",
            "%\n",
            "%\n",
            "% • 1         % \n",
            "% • 2         % \n",
            "%\n",
            "%\n",
            "% • 1         % \n",
            "% • 2         % \n",
            "%\n",
            "%\n",
            "% • 1         % \n",
            "% • 2         % \n",
            "%\n",
            "%%%%%%%%%%%%\n"
          ]
        }
      ]
    }
  ]
}